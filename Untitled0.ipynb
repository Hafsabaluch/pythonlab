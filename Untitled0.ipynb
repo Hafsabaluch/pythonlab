{
  "nbformat": 4,
  "nbformat_minor": 0,
  "metadata": {
    "colab": {
      "provenance": [],
      "toc_visible": true
    },
    "kernelspec": {
      "name": "python3",
      "display_name": "Python 3"
    },
    "language_info": {
      "name": "python"
    }
  },
  "cells": [
    {
      "cell_type": "code",
      "execution_count": null,
      "metadata": {
        "colab": {
          "base_uri": "https://localhost:8080/"
        },
        "id": "Qgu_EWMI80Yh",
        "outputId": "1aa4a250-184b-42df-d904-449d93e3df76"
      },
      "outputs": [
        {
          "output_type": "stream",
          "name": "stdout",
          "text": [
            "----------------------mini calculator---------------------\n",
            "enter 1st number11\n",
            "enter 2nd number11\n",
            "1:addition\n",
            " 2:substraction\n",
            " 3:multiplication\n",
            " 4:division\n",
            "enter number u pick ; 1\n",
            "22.0\n"
          ]
        }
      ],
      "source": [
        "print(\"----------------------mini calculator---------------------\")\n",
        "num1=float(input(\"enter 1st number\"))\n",
        "num2=float(input(\"enter 2nd number\"))\n",
        "\n",
        "print(\"1:addition\\n 2:substraction\\n 3:multiplication\\n 4:division\")\n",
        "\n",
        "addition=num1+num2\n",
        "substraction=num1-num2\n",
        "multiplication=num1*num2\n",
        "division=num1/num2\n",
        "\n",
        "choice = int(input(\"enter number u pick ; \"))\n",
        "\n",
        "if choice==1:\n",
        "   print(addition)\n",
        "\n",
        "elif choice==2:\n",
        "    print(substraction)\n",
        "\n",
        "elif choice==3:\n",
        "    print(multiplication)\n",
        "\n",
        "elif choice==4:\n",
        "    print(division)\n",
        "\n",
        "else:\n",
        "   print(\"invalid input\")"
      ]
    },
    {
      "cell_type": "markdown",
      "source": [
        "# New Section"
      ],
      "metadata": {
        "id": "HqzDL0JtiCeD"
      }
    },
    {
      "cell_type": "code",
      "source": [
        "str1=str(\"Enter first name\")\n",
        "str2=str(\"Enter middle name\")\n",
        "str3=str(\"Enter last name\")\n"
      ],
      "metadata": {
        "id": "TSXb7cPU_rwx"
      },
      "execution_count": null,
      "outputs": []
    }
  ]
}